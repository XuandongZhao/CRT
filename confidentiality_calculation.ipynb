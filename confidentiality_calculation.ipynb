{
 "cells": [
  {
   "cell_type": "markdown",
   "id": "4d08d8a1",
   "metadata": {},
   "source": [
    "Our basic implementation is based on [text generation of private-transformers](https://github.com/lxuechen/private-transformers/tree/main/examples/table2text), we will show how to calculate parameters in Bayesian Confidentiality with redaction policy $\\pi$ in this file.\n",
    "\n"
   ]
  },
  {
   "cell_type": "code",
   "execution_count": 1,
   "id": "27bdff93",
   "metadata": {},
   "outputs": [],
   "source": [
    "import math\n",
    "from autodp.autodp_core import Mechanism\n",
    "from autodp import mechanism_zoo, transformer_zoo\n",
    "from autodp.calibrator_zoo import generalized_eps_delta_calibrator\n",
    "from autodp.mechanism_zoo import SubsampleGaussianMechanism\n",
    "\n",
    "\n",
    "class DPSGDMech(Mechanism):\n",
    "    def __init__(self, prob, sigma, niter, name='NoisySGD'):\n",
    "        Mechanism.__init__(self)\n",
    "        self.name = name\n",
    "        self.params = {'prob': prob, 'sigma': sigma, 'niter': niter}\n",
    "\n",
    "        # create such a mechanism as in previously\n",
    "        subsample = transformer_zoo.AmplificationBySampling()  # by default this is using poisson sampling\n",
    "        mech = mechanism_zoo.GaussianMechanism(sigma=sigma)\n",
    "        prob = prob\n",
    "        # Create subsampled Gaussian mechanism\n",
    "        SubsampledGaussian_mech = subsample(mech, prob, improved_bound_flag=True)\n",
    "\n",
    "        # Now run this for niter iterations\n",
    "        compose = transformer_zoo.Composition()\n",
    "        mech = compose([SubsampledGaussian_mech], [niter])\n",
    "\n",
    "        # Now we get it and let's extract the RDP function and assign it to the current mech being constructed\n",
    "        rdp_total = mech.RenyiDP\n",
    "        self.propagate_updates(rdp_total, type_of_update='RDP')"
   ]
  },
  {
   "cell_type": "code",
   "execution_count": 2,
   "id": "03086efa",
   "metadata": {},
   "outputs": [
    {
     "name": "stderr",
     "output_type": "stream",
     "text": [
      "/Users/xuandongzhao/opt/anaconda3/lib/python3.9/site-packages/scipy/optimize/optimize.py:2621: RuntimeWarning: invalid value encountered in double_scalars\n",
      "  w = xb - ((xb - xc) * tmp2 - (xb - xa) * tmp1) / denom\n"
     ]
    },
    {
     "name": "stdout",
     "output_type": "stream",
     "text": [
      "DPSGD eps: 2\n",
      "Confidentiality eps: 0.3743881227244274\n"
     ]
    }
   ],
   "source": [
    "\"\"\"\n",
    "Fix delta parameter to be the same, returns the epsilon parameter in Bayesian Confidentiality\n",
    "Args:\n",
    "    dpsgd_eps: epsilon parameter in DP SGD\n",
    "    dpsgd_delta: delta parameter in DP SGD\n",
    "    batch_size: batch size in training\n",
    "    sample_size: total number of samples\n",
    "    epochs: how many epochs\n",
    "    gamma: 1 - empirical recall rates of the redaction policy. \n",
    "           e.g. Redaction policy mask 90% of sensitive data -> gamma = 1 - 0.9 = 0.1 \n",
    "\"\"\"\n",
    "dpsgd_eps = 2\n",
    "dpsgd_delta = 1e-5\n",
    "batch_size = 1000\n",
    "sample_size = 10000\n",
    "epochs = 10\n",
    "gamma = 0.1\n",
    "\n",
    "niter = sample_size / batch_size * epochs\n",
    "sample_rate = batch_size / sample_size\n",
    "general_calibrate = generalized_eps_delta_calibrator()\n",
    "params = {'sigma': None, 'coeff': niter, 'prob': sample_rate}\n",
    "mech = general_calibrate(SubsampleGaussianMechanism, dpsgd_eps, dpsgd_delta, [0, 1000], \n",
    "                         params=params, para_name='sigma', name='Subsampled_Gaussian')\n",
    "sigma = mech.params['sigma']\n",
    "dpsgd = DPSGDMech(prob=sample_rate, sigma=sigma, niter=niter)\n",
    "\n",
    "confidentiality_delta = dpsgd_delta / gamma\n",
    "old_eps = dpsgd.get_approxDP(delta=confidentiality_delta)\n",
    "confidentiality_eps = math.log(1 + gamma * (math.e ** old_eps - 1))\n",
    "print('DPSGD eps:', dpsgd_eps)\n",
    "print('Confidentiality eps:', confidentiality_eps)"
   ]
  }
 ],
 "metadata": {
  "kernelspec": {
   "display_name": "Python 3 (ipykernel)",
   "language": "python",
   "name": "python3"
  },
  "language_info": {
   "codemirror_mode": {
    "name": "ipython",
    "version": 3
   },
   "file_extension": ".py",
   "mimetype": "text/x-python",
   "name": "python",
   "nbconvert_exporter": "python",
   "pygments_lexer": "ipython3",
   "version": "3.9.12"
  }
 },
 "nbformat": 4,
 "nbformat_minor": 5
}
